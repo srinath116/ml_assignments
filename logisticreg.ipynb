{
 "cells": [
  {
   "cell_type": "code",
   "execution_count": 1,
   "metadata": {},
   "outputs": [],
   "source": [
    "import numpy as np\n",
    "import math\n",
    "import pandas as pd\n",
    "import imp\n",
    "import matplotlib.pyplot as plt\n"
   ]
  },
  {
   "cell_type": "code",
   "execution_count": 2,
   "metadata": {},
   "outputs": [],
   "source": [
    "\n",
    "def readMatrix(file):\n",
    "    fd = open(file, 'r')\n",
    "    hdr = fd.readline()\n",
    "    rows, cols = [int(s) for s in fd.readline().strip().split()]\n",
    "    tokens = fd.readline().strip().split()\n",
    "    matrix = np.zeros((rows, cols))\n",
    "    Y = []\n",
    "    for i, line in enumerate(fd):\n",
    "        nums = [int(x) for x in line.strip().split()]\n",
    "        Y.append(nums[0])\n",
    "        kv = np.array(nums[1:])\n",
    "        k = np.cumsum(kv[:-1:2])\n",
    "        v = kv[1::2]\n",
    "        matrix[i, k] = v\n",
    "    return matrix, tokens, np.array(Y)"
   ]
  },
  {
   "cell_type": "code",
   "execution_count": 3,
   "metadata": {},
   "outputs": [],
   "source": [
    "\n",
    "def sigmoid(z):\n",
    "    \"\"\"\n",
    "    Computes sigmoid function of z \n",
    "    \"\"\"\n",
    "    z = np.exp(z)\n",
    "    return z/(1+z)"
   ]
  },
  {
   "cell_type": "code",
   "execution_count": 15,
   "metadata": {},
   "outputs": [],
   "source": [
    "def lr_train(matrix, category):\n",
    "    state = {}\n",
    "    N = matrix.shape[1]\n",
    "    ###################\n",
    "    alpha = 0.01\n",
    "   \n",
    "    p_count = 0;\n",
    "    n_count = 0;\n",
    "    for i in category:\n",
    "    \tif (i == 0):\n",
    "    \t\tn_count+=1\n",
    "    \telse:\n",
    "    \t\tp_count += 1\n",
    "    print (\"Positive : \", p_count, \"\\nNegative : \", n_count)\n",
    "\n",
    "    print (\"Training set size: \", len(category))\n",
    "    # Vectorized Batch Gradient descent\n",
    "    theta = np.zeros((N, 1))\n",
    "    iteri = 0\n",
    "    maxiter = 1000\n",
    "    while(iteri < maxiter):\n",
    "        grad  = np.dot(matrix.T, (sigmoid(np.dot(matrix, theta)) - category.reshape(category.shape[0], 1)))/category.shape[0]\n",
    "        theta -= alpha*grad\n",
    "        iteri += 1\n",
    "    state['theta'] = theta\n",
    "    return state"
   ]
  },
  {
   "cell_type": "code",
   "execution_count": 16,
   "metadata": {},
   "outputs": [],
   "source": [
    "def lr_test(matrix, state):\n",
    "    output = np.zeros(matrix.shape[0])\n",
    "    ###################\n",
    "    y_test = sigmoid(np.dot(matrix, state['theta']))\n",
    "    for i in range(0, matrix.shape[0]):\n",
    "    \tif (y_test[i] > 0.5 ):\n",
    "    \t\toutput[i] = 1\n",
    "    \telse:\n",
    "    \t\toutput[i] = 0\n",
    "    ###################\t\n",
    "    return output"
   ]
  },
  {
   "cell_type": "code",
   "execution_count": 19,
   "metadata": {},
   "outputs": [],
   "source": [
    "def evaluate(output, label): \n",
    "    print (\"Testing set size: \", len(output))\n",
    "    accuracy = (output == label).sum() * 1. / len(output)\n",
    "    from sklearn.metrics import confusion_matrix\n",
    "    cm = confusion_matrix(label, output)\n",
    "    tn, fp, fn, tp = cm.ravel()\n",
    "    print(\"Confusion matrix:\\n\")\n",
    "    print(\"   \\tP\", \"\\tN\\n\")\n",
    "    print(\"P\\t\", cm[0][0], \"\\t\", cm[0][1]) \n",
    "    print(\"\\nN\\t\", cm[1][0], \"\\t\",  cm[1][1])\n",
    "    print ('\\nAccuracy: ', accuracy*100)\n",
    "    print (\"\\nRecall : \", tp/(tp+fn))\n",
    "    print (\"\\nPrecision : \", tp/(tp + fp))\n",
    "   "
   ]
  },
  {
   "cell_type": "code",
   "execution_count": 21,
   "metadata": {},
   "outputs": [
    {
     "name": "stdout",
     "output_type": "stream",
     "text": [
      "Positive :  699 \n",
      "Negative :  701\n",
      "Training set size:  1400\n"
     ]
    }
   ],
   "source": [
    "trainMatrix, tokenlist, trainCategory = readMatrix('MATRIX.TRAIN.1400')\n",
    "testMatrix, tokenlist, testCategory = readMatrix('MATRIX.TEST')\n",
    "\n",
    "state = lr_train(trainMatrix, trainCategory)\n",
    "predicted = lr_test(testMatrix, state)\n"
   ]
  },
  {
   "cell_type": "code",
   "execution_count": 22,
   "metadata": {},
   "outputs": [
    {
     "data": {
      "text/plain": [
       "array([[400,   0],\n",
       "       [  4, 396]])"
      ]
     },
     "execution_count": 22,
     "metadata": {},
     "output_type": "execute_result"
    }
   ],
   "source": [
    "from sklearn.metrics import confusion_matrix\n",
    "confusion_matrix(testCategory, predicted)"
   ]
  },
  {
   "cell_type": "code",
   "execution_count": 23,
   "metadata": {},
   "outputs": [
    {
     "name": "stdout",
     "output_type": "stream",
     "text": [
      "Average precision-recall score: 0.99\n"
     ]
    }
   ],
   "source": [
    "from sklearn.metrics import recall_score\n",
    "recall_=recall_score(testCategory, predicted)\n",
    "print('Average precision-recall score: {0:0.2f}'.format(\n",
    "      recall_))"
   ]
  },
  {
   "cell_type": "code",
   "execution_count": 24,
   "metadata": {},
   "outputs": [
    {
     "name": "stdout",
     "output_type": "stream",
     "text": [
      "Average precision-recall score: 0.99\n"
     ]
    }
   ],
   "source": [
    "from sklearn.metrics import average_precision_score\n",
    "average_precision = average_precision_score(testCategory, predicted)\n",
    "\n",
    "print('Average precision-recall score: {0:0.2f}'.format(\n",
    "      average_precision))"
   ]
  },
  {
   "cell_type": "code",
   "execution_count": null,
   "metadata": {},
   "outputs": [],
   "source": []
  },
  {
   "cell_type": "code",
   "execution_count": null,
   "metadata": {},
   "outputs": [],
   "source": []
  },
  {
   "cell_type": "code",
   "execution_count": null,
   "metadata": {},
   "outputs": [],
   "source": []
  }
 ],
 "metadata": {
  "kernelspec": {
   "display_name": "Python 3",
   "language": "python",
   "name": "python3"
  },
  "language_info": {
   "codemirror_mode": {
    "name": "ipython",
    "version": 3
   },
   "file_extension": ".py",
   "mimetype": "text/x-python",
   "name": "python",
   "nbconvert_exporter": "python",
   "pygments_lexer": "ipython3",
   "version": "3.6.6"
  }
 },
 "nbformat": 4,
 "nbformat_minor": 2
}
