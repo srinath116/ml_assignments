{
 "cells": [
  {
   "cell_type": "code",
   "execution_count": 91,
   "metadata": {},
   "outputs": [
    {
     "name": "stdout",
     "output_type": "stream",
     "text": [
      "Testing error = [41178.38929241]\n"
     ]
    }
   ],
   "source": [
    "import numpy as np\n",
    "import matplotlib.pyplot as plt\n",
    "\n",
    "def sigma(alpha,tt,x,y,j,m,test):\n",
    "\n",
    "    sum=0\n",
    "    for i in range(0,int(0.8*m)):\n",
    "        sum=sum+alpha*wi(test,x[1][i])*pow((np.matmul(tt,x[:,i])-y[i]),2)\n",
    "\n",
    "    return(sum)\n",
    "def wi(xi,x):\n",
    "    \n",
    "    sig = 100;\n",
    "    temp = np.exp(-0.5*pow(((x-xi)/sig),2))\n",
    " \n",
    "    return(temp)\n",
    "\n",
    "\n",
    "n = 3\n",
    "with open(\"housingPrices.txt\") as file:\n",
    "    data = file.readlines()\n",
    "\n",
    "m = len(data)\n",
    "theta = np.zeros([n,1],dtype=float)\n",
    "\n",
    "x = np.zeros([n,m])\n",
    "y = np.zeros(m)\n",
    "for i in range(0,m):\n",
    "    x[0][i] = 1\n",
    "\n",
    "x_temp=np.zeros([m,n],dtype=int)\n",
    "i=0\n",
    "for line in data:\n",
    "\ttemp_x = line.split()\n",
    "\n",
    "\tfor j in range(0,n):\n",
    "\t\tx_temp[i][j] = int(temp_x[j])\n",
    "\ti=i+1\n",
    "\n",
    "\n",
    "x_temp = x_temp[x_temp[:,0].argsort()]\n",
    "\n",
    "\n",
    "for i in range(0,m):\n",
    "\tfor j in range(1,n):\n",
    "\t\tx[j][i] = int(x_temp[i][j-1])\n",
    "\n",
    "\n",
    "\n",
    "for i in range(0,m):\n",
    "\t\n",
    "\ty[i]=int(x_temp[i][n-1])\n",
    "\n",
    "\n",
    "\n",
    "alpha =\t1/pow(10,10)\n",
    "\n",
    "\n",
    "\n",
    "\n",
    "y_axis=[]\n",
    "x_axis=[]\n",
    "yp=[]\n",
    "# error = 0\n",
    "# for i in range(int(np.ceil(0.8*m)),m):\n",
    "#     iterations = 750\n",
    "#     while iterations:\n",
    "#         for j in range(0,n):\n",
    "#             theta[j][0] = theta[j][0] + sigma(alpha,theta.transpose(),x,y,j,m,x[1][i])\n",
    "#             iterations = iterations-1\n",
    "    \n",
    "#     x_axis.append(x[1][i])\n",
    "#     y_axis.append( np.matmul(theta.transpose(),x[:,i]))\n",
    "#     yp.append(y[i])\n",
    "#     error = error+ pow((np.matmul(theta.transpose(),x[:,i])-y[i]),2)\n",
    "       \n",
    "\n",
    "\n",
    "\n",
    "\n",
    "print(\"Testing error = \"+str(np.sqrt(error/m)))"
   ]
  },
  {
   "cell_type": "code",
   "execution_count": 96,
   "metadata": {},
   "outputs": [],
   "source": [
    "def sigma(alpha,tt,x,y,j,m,test):\n",
    "\n",
    "    sum=0\n",
    "    for i in range(0,int(0.8*m)):\n",
    "        sum=sum+alpha*wi(test,x[1][i])*pow((np.matmul(tt,x[:,i])-y[i]),2)\n",
    "\n",
    "    return(sum)\n",
    "def wi(xi,x):\n",
    "    \n",
    "    sig = 100;\n",
    "    temp = np.exp(-0.5*pow(((x-xi)/sig),2))\n",
    " \n",
    "    return(temp)"
   ]
  },
  {
   "cell_type": "code",
   "execution_count": 97,
   "metadata": {},
   "outputs": [],
   "source": [
    "def reg_(x,y,theta,m,iterations):\n",
    "    for i in range(int(np.ceil(0.8*m)),m):\n",
    "        iterations = 750\n",
    "        while iterations:\n",
    "            for j in range(0,n):\n",
    "                theta[j][0] = theta[j][0] + sigma(alpha,theta.transpose(),x,y,j,m,x[1][i])\n",
    "                iterations = iterations-1\n",
    "    return theta\n",
    "    "
   ]
  },
  {
   "cell_type": "code",
   "execution_count": 98,
   "metadata": {},
   "outputs": [],
   "source": [
    "th=reg_(x,y,theta,m,750)"
   ]
  },
  {
   "cell_type": "code",
   "execution_count": 99,
   "metadata": {},
   "outputs": [
    {
     "data": {
      "text/plain": [
       "array([[157.46262254],\n",
       "       [157.46094065],\n",
       "       [153.48926344]])"
      ]
     },
     "execution_count": 99,
     "metadata": {},
     "output_type": "execute_result"
    }
   ],
   "source": [
    "th"
   ]
  },
  {
   "cell_type": "code",
   "execution_count": 100,
   "metadata": {},
   "outputs": [
    {
     "data": {
      "text/plain": [
       "array([[1.000e+00, 1.000e+00, 1.000e+00, 1.000e+00, 1.000e+00, 1.000e+00,\n",
       "        1.000e+00, 1.000e+00, 1.000e+00, 1.000e+00, 1.000e+00, 1.000e+00,\n",
       "        1.000e+00, 1.000e+00, 1.000e+00, 1.000e+00, 1.000e+00, 1.000e+00,\n",
       "        1.000e+00, 1.000e+00, 1.000e+00, 1.000e+00, 1.000e+00, 1.000e+00,\n",
       "        1.000e+00, 1.000e+00, 1.000e+00, 1.000e+00, 1.000e+00, 1.000e+00,\n",
       "        1.000e+00, 1.000e+00, 1.000e+00, 1.000e+00, 1.000e+00, 1.000e+00,\n",
       "        1.000e+00, 1.000e+00, 1.000e+00, 1.000e+00, 1.000e+00, 1.000e+00,\n",
       "        1.000e+00, 1.000e+00, 1.000e+00, 1.000e+00, 1.000e+00],\n",
       "       [8.520e+02, 1.000e+03, 1.100e+03, 1.200e+03, 1.203e+03, 1.236e+03,\n",
       "        1.239e+03, 1.268e+03, 1.320e+03, 1.380e+03, 1.416e+03, 1.427e+03,\n",
       "        1.437e+03, 1.458e+03, 1.494e+03, 1.534e+03, 1.600e+03, 1.604e+03,\n",
       "        1.664e+03, 1.767e+03, 1.811e+03, 1.839e+03, 1.852e+03, 1.888e+03,\n",
       "        1.890e+03, 1.940e+03, 1.962e+03, 1.985e+03, 2.000e+03, 2.040e+03,\n",
       "        2.104e+03, 2.132e+03, 2.162e+03, 2.200e+03, 2.238e+03, 2.300e+03,\n",
       "        2.400e+03, 2.526e+03, 2.567e+03, 2.609e+03, 2.637e+03, 3.000e+03,\n",
       "        3.031e+03, 3.137e+03, 3.890e+03, 4.215e+03, 4.478e+03],\n",
       "       [2.000e+00, 1.000e+00, 3.000e+00, 3.000e+00, 3.000e+00, 3.000e+00,\n",
       "        3.000e+00, 3.000e+00, 2.000e+00, 3.000e+00, 2.000e+00, 3.000e+00,\n",
       "        3.000e+00, 3.000e+00, 3.000e+00, 3.000e+00, 3.000e+00, 3.000e+00,\n",
       "        2.000e+00, 3.000e+00, 4.000e+00, 2.000e+00, 4.000e+00, 2.000e+00,\n",
       "        3.000e+00, 4.000e+00, 4.000e+00, 4.000e+00, 3.000e+00, 4.000e+00,\n",
       "        3.000e+00, 4.000e+00, 4.000e+00, 3.000e+00, 3.000e+00, 4.000e+00,\n",
       "        3.000e+00, 3.000e+00, 4.000e+00, 4.000e+00, 3.000e+00, 4.000e+00,\n",
       "        4.000e+00, 3.000e+00, 3.000e+00, 4.000e+00, 5.000e+00]])"
      ]
     },
     "execution_count": 100,
     "metadata": {},
     "output_type": "execute_result"
    }
   ],
   "source": [
    "x"
   ]
  },
  {
   "cell_type": "code",
   "execution_count": 102,
   "metadata": {},
   "outputs": [
    {
     "data": {
      "text/plain": [
       "(3, 47)"
      ]
     },
     "execution_count": 102,
     "metadata": {},
     "output_type": "execute_result"
    }
   ],
   "source": [
    "x.shape"
   ]
  },
  {
   "cell_type": "code",
   "execution_count": null,
   "metadata": {},
   "outputs": [],
   "source": []
  },
  {
   "cell_type": "code",
   "execution_count": null,
   "metadata": {},
   "outputs": [],
   "source": []
  }
 ],
 "metadata": {
  "kernelspec": {
   "display_name": "Python 3",
   "language": "python",
   "name": "python3"
  },
  "language_info": {
   "codemirror_mode": {
    "name": "ipython",
    "version": 3
   },
   "file_extension": ".py",
   "mimetype": "text/x-python",
   "name": "python",
   "nbconvert_exporter": "python",
   "pygments_lexer": "ipython3",
   "version": "3.6.6"
  }
 },
 "nbformat": 4,
 "nbformat_minor": 2
}
