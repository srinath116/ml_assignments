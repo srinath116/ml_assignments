{
 "cells": [
  {
   "cell_type": "code",
   "execution_count": 17,
   "metadata": {},
   "outputs": [],
   "source": [
    "%matplotlib inline\n",
    "import numpy as np\n",
    "import pandas as pd\n",
    "import matplotlib.pyplot as plt\n",
    "plt.rcParams['figure.figsize'] = (20.0, 10.0)\n",
    "from mpl_toolkits.mplot3d import Axes3D"
   ]
  },
  {
   "cell_type": "code",
   "execution_count": 18,
   "metadata": {},
   "outputs": [
    {
     "data": {
      "text/html": [
       "<div>\n",
       "<style scoped>\n",
       "    .dataframe tbody tr th:only-of-type {\n",
       "        vertical-align: middle;\n",
       "    }\n",
       "\n",
       "    .dataframe tbody tr th {\n",
       "        vertical-align: top;\n",
       "    }\n",
       "\n",
       "    .dataframe thead th {\n",
       "        text-align: right;\n",
       "    }\n",
       "</style>\n",
       "<table border=\"1\" class=\"dataframe\">\n",
       "  <thead>\n",
       "    <tr style=\"text-align: right;\">\n",
       "      <th></th>\n",
       "      <th>0</th>\n",
       "      <th>1</th>\n",
       "      <th>2</th>\n",
       "    </tr>\n",
       "  </thead>\n",
       "  <tbody>\n",
       "    <tr>\n",
       "      <th>0</th>\n",
       "      <td>2104</td>\n",
       "      <td>3</td>\n",
       "      <td>399900</td>\n",
       "    </tr>\n",
       "    <tr>\n",
       "      <th>1</th>\n",
       "      <td>1600</td>\n",
       "      <td>3</td>\n",
       "      <td>329900</td>\n",
       "    </tr>\n",
       "    <tr>\n",
       "      <th>2</th>\n",
       "      <td>2400</td>\n",
       "      <td>3</td>\n",
       "      <td>369000</td>\n",
       "    </tr>\n",
       "    <tr>\n",
       "      <th>3</th>\n",
       "      <td>1416</td>\n",
       "      <td>2</td>\n",
       "      <td>232000</td>\n",
       "    </tr>\n",
       "    <tr>\n",
       "      <th>4</th>\n",
       "      <td>3000</td>\n",
       "      <td>4</td>\n",
       "      <td>539900</td>\n",
       "    </tr>\n",
       "  </tbody>\n",
       "</table>\n",
       "</div>"
      ],
      "text/plain": [
       "      0  1       2\n",
       "0  2104  3  399900\n",
       "1  1600  3  329900\n",
       "2  2400  3  369000\n",
       "3  1416  2  232000\n",
       "4  3000  4  539900"
      ]
     },
     "execution_count": 18,
     "metadata": {},
     "output_type": "execute_result"
    }
   ],
   "source": [
    "data  = pd.read_csv('housingPrices.txt',delimiter=\" \",header=None)\n",
    "data.head()"
   ]
  },
  {
   "cell_type": "code",
   "execution_count": 19,
   "metadata": {},
   "outputs": [
    {
     "data": {
      "text/html": [
       "<div>\n",
       "<style scoped>\n",
       "    .dataframe tbody tr th:only-of-type {\n",
       "        vertical-align: middle;\n",
       "    }\n",
       "\n",
       "    .dataframe tbody tr th {\n",
       "        vertical-align: top;\n",
       "    }\n",
       "\n",
       "    .dataframe thead th {\n",
       "        text-align: right;\n",
       "    }\n",
       "</style>\n",
       "<table border=\"1\" class=\"dataframe\">\n",
       "  <thead>\n",
       "    <tr style=\"text-align: right;\">\n",
       "      <th></th>\n",
       "      <th>0</th>\n",
       "      <th>1</th>\n",
       "      <th>2</th>\n",
       "    </tr>\n",
       "  </thead>\n",
       "  <tbody>\n",
       "    <tr>\n",
       "      <th>0</th>\n",
       "      <td>2104</td>\n",
       "      <td>3</td>\n",
       "      <td>399900</td>\n",
       "    </tr>\n",
       "    <tr>\n",
       "      <th>1</th>\n",
       "      <td>1600</td>\n",
       "      <td>3</td>\n",
       "      <td>329900</td>\n",
       "    </tr>\n",
       "    <tr>\n",
       "      <th>2</th>\n",
       "      <td>2400</td>\n",
       "      <td>3</td>\n",
       "      <td>369000</td>\n",
       "    </tr>\n",
       "    <tr>\n",
       "      <th>3</th>\n",
       "      <td>1416</td>\n",
       "      <td>2</td>\n",
       "      <td>232000</td>\n",
       "    </tr>\n",
       "    <tr>\n",
       "      <th>4</th>\n",
       "      <td>3000</td>\n",
       "      <td>4</td>\n",
       "      <td>539900</td>\n",
       "    </tr>\n",
       "  </tbody>\n",
       "</table>\n",
       "</div>"
      ],
      "text/plain": [
       "      0  1       2\n",
       "0  2104  3  399900\n",
       "1  1600  3  329900\n",
       "2  2400  3  369000\n",
       "3  1416  2  232000\n",
       "4  3000  4  539900"
      ]
     },
     "execution_count": 19,
     "metadata": {},
     "output_type": "execute_result"
    }
   ],
   "source": [
    "data.head()"
   ]
  },
  {
   "cell_type": "code",
   "execution_count": 20,
   "metadata": {},
   "outputs": [],
   "source": [
    "def predict(row, coefficients):\n",
    "    yhat = coefficients[0]\n",
    "    for i in range(len(row)-1):\n",
    "        yhat += coefficients[i + 1] * row[i]\n",
    "    return yhat"
   ]
  },
  {
   "cell_type": "code",
   "execution_count": 21,
   "metadata": {},
   "outputs": [],
   "source": [
    "def coefficients(train, l_rate,iterations):\n",
    "    coef = [0.0 for i in range(len(train[0]))]\n",
    "    print(coef)\n",
    "    error=10;\n",
    "    epoch=0;\n",
    "    while error<0.001 or epoch <iterations :\n",
    "        epoch+=1;\n",
    "        sum_error = 0\n",
    "        for row in train:\n",
    "            yhat = predict(row, coef)\n",
    "            error = yhat - row[-1]\n",
    "            sum_error += error**2\n",
    "            coef[0] = coef[0] - l_rate * error\n",
    "            for i in range(len(row)-1):\n",
    "                coef[i + 1] = coef[i + 1] - l_rate * error * row[i]\n",
    "        if epoch%100==0:\n",
    "            print('epoch =%.0f, lrate=%.9f, error=%.3f' % ( epoch,l_rate,error))\n",
    "    return coef"
   ]
  },
  {
   "cell_type": "code",
   "execution_count": 22,
   "metadata": {},
   "outputs": [],
   "source": [
    "train=data.values"
   ]
  },
  {
   "cell_type": "code",
   "execution_count": 23,
   "metadata": {},
   "outputs": [
    {
     "name": "stdout",
     "output_type": "stream",
     "text": [
      "[0.0, 0.0, 0.0]\n",
      "epoch =100, lrate=0.000000001, error=4275.546\n",
      "epoch =200, lrate=0.000000001, error=4275.663\n",
      "epoch =300, lrate=0.000000001, error=4275.780\n",
      "epoch =400, lrate=0.000000001, error=4275.897\n",
      "epoch =500, lrate=0.000000001, error=4276.014\n",
      "epoch =600, lrate=0.000000001, error=4276.131\n",
      "epoch =700, lrate=0.000000001, error=4276.248\n",
      "epoch =800, lrate=0.000000001, error=4276.365\n",
      "epoch =900, lrate=0.000000001, error=4276.482\n",
      "epoch =1000, lrate=0.000000001, error=4276.599\n",
      "epoch =1100, lrate=0.000000001, error=4276.716\n",
      "epoch =1200, lrate=0.000000001, error=4276.833\n",
      "epoch =1300, lrate=0.000000001, error=4276.950\n",
      "epoch =1400, lrate=0.000000001, error=4277.067\n",
      "epoch =1500, lrate=0.000000001, error=4277.184\n",
      "epoch =1600, lrate=0.000000001, error=4277.301\n",
      "epoch =1700, lrate=0.000000001, error=4277.418\n",
      "epoch =1800, lrate=0.000000001, error=4277.535\n",
      "epoch =1900, lrate=0.000000001, error=4277.653\n",
      "epoch =2000, lrate=0.000000001, error=4277.770\n",
      "epoch =2100, lrate=0.000000001, error=4277.887\n",
      "epoch =2200, lrate=0.000000001, error=4278.004\n",
      "epoch =2300, lrate=0.000000001, error=4278.121\n",
      "epoch =2400, lrate=0.000000001, error=4278.238\n",
      "epoch =2500, lrate=0.000000001, error=4278.355\n",
      "epoch =2600, lrate=0.000000001, error=4278.472\n",
      "epoch =2700, lrate=0.000000001, error=4278.589\n",
      "epoch =2800, lrate=0.000000001, error=4278.706\n",
      "epoch =2900, lrate=0.000000001, error=4278.823\n",
      "epoch =3000, lrate=0.000000001, error=4278.940\n",
      "epoch =3100, lrate=0.000000001, error=4279.057\n",
      "epoch =3200, lrate=0.000000001, error=4279.174\n",
      "epoch =3300, lrate=0.000000001, error=4279.291\n",
      "epoch =3400, lrate=0.000000001, error=4279.408\n",
      "epoch =3500, lrate=0.000000001, error=4279.525\n",
      "epoch =3600, lrate=0.000000001, error=4279.642\n",
      "epoch =3700, lrate=0.000000001, error=4279.759\n",
      "epoch =3800, lrate=0.000000001, error=4279.876\n",
      "epoch =3900, lrate=0.000000001, error=4279.993\n",
      "epoch =4000, lrate=0.000000001, error=4280.110\n",
      "epoch =4100, lrate=0.000000001, error=4280.227\n",
      "epoch =4200, lrate=0.000000001, error=4280.344\n",
      "epoch =4300, lrate=0.000000001, error=4280.461\n",
      "epoch =4400, lrate=0.000000001, error=4280.578\n",
      "epoch =4500, lrate=0.000000001, error=4280.695\n",
      "epoch =4600, lrate=0.000000001, error=4280.812\n",
      "epoch =4700, lrate=0.000000001, error=4280.929\n",
      "epoch =4800, lrate=0.000000001, error=4281.046\n",
      "epoch =4900, lrate=0.000000001, error=4281.163\n",
      "epoch =5000, lrate=0.000000001, error=4281.280\n",
      "epoch =5100, lrate=0.000000001, error=4281.397\n",
      "epoch =5200, lrate=0.000000001, error=4281.514\n",
      "epoch =5300, lrate=0.000000001, error=4281.631\n",
      "epoch =5400, lrate=0.000000001, error=4281.748\n",
      "epoch =5500, lrate=0.000000001, error=4281.865\n",
      "epoch =5600, lrate=0.000000001, error=4281.982\n",
      "epoch =5700, lrate=0.000000001, error=4282.099\n",
      "epoch =5800, lrate=0.000000001, error=4282.216\n",
      "epoch =5900, lrate=0.000000001, error=4282.333\n",
      "epoch =6000, lrate=0.000000001, error=4282.450\n",
      "epoch =6100, lrate=0.000000001, error=4282.567\n",
      "epoch =6200, lrate=0.000000001, error=4282.684\n",
      "epoch =6300, lrate=0.000000001, error=4282.801\n",
      "epoch =6400, lrate=0.000000001, error=4282.918\n",
      "epoch =6500, lrate=0.000000001, error=4283.035\n",
      "epoch =6600, lrate=0.000000001, error=4283.152\n",
      "epoch =6700, lrate=0.000000001, error=4283.269\n",
      "epoch =6800, lrate=0.000000001, error=4283.386\n",
      "epoch =6900, lrate=0.000000001, error=4283.503\n",
      "epoch =7000, lrate=0.000000001, error=4283.620\n",
      "epoch =7100, lrate=0.000000001, error=4283.737\n",
      "epoch =7200, lrate=0.000000001, error=4283.854\n",
      "epoch =7300, lrate=0.000000001, error=4283.971\n",
      "epoch =7400, lrate=0.000000001, error=4284.088\n",
      "epoch =7500, lrate=0.000000001, error=4284.205\n",
      "epoch =7600, lrate=0.000000001, error=4284.322\n",
      "epoch =7700, lrate=0.000000001, error=4284.439\n",
      "epoch =7800, lrate=0.000000001, error=4284.556\n",
      "epoch =7900, lrate=0.000000001, error=4284.673\n",
      "epoch =8000, lrate=0.000000001, error=4284.790\n",
      "epoch =8100, lrate=0.000000001, error=4284.907\n",
      "epoch =8200, lrate=0.000000001, error=4285.024\n",
      "epoch =8300, lrate=0.000000001, error=4285.141\n",
      "epoch =8400, lrate=0.000000001, error=4285.258\n",
      "epoch =8500, lrate=0.000000001, error=4285.375\n",
      "epoch =8600, lrate=0.000000001, error=4285.492\n",
      "epoch =8700, lrate=0.000000001, error=4285.609\n",
      "epoch =8800, lrate=0.000000001, error=4285.726\n",
      "epoch =8900, lrate=0.000000001, error=4285.843\n",
      "epoch =9000, lrate=0.000000001, error=4285.960\n",
      "epoch =9100, lrate=0.000000001, error=4286.077\n",
      "epoch =9200, lrate=0.000000001, error=4286.194\n",
      "epoch =9300, lrate=0.000000001, error=4286.311\n",
      "epoch =9400, lrate=0.000000001, error=4286.428\n",
      "epoch =9500, lrate=0.000000001, error=4286.545\n",
      "epoch =9600, lrate=0.000000001, error=4286.662\n",
      "epoch =9700, lrate=0.000000001, error=4286.779\n",
      "epoch =9800, lrate=0.000000001, error=4286.896\n",
      "epoch =9900, lrate=0.000000001, error=4287.013\n",
      "epoch =10000, lrate=0.000000001, error=4287.130\n"
     ]
    }
   ],
   "source": [
    "cff=coefficients(train,1/pow(10,9),10000)"
   ]
  },
  {
   "cell_type": "code",
   "execution_count": 24,
   "metadata": {},
   "outputs": [],
   "source": [
    "test=data.iloc[:,0:2]\n",
    "y=data.iloc[:,-1]"
   ]
  },
  {
   "cell_type": "code",
   "execution_count": 25,
   "metadata": {},
   "outputs": [
    {
     "data": {
      "text/plain": [
       "[4.589633736142335, 165.17115521866472, 8.147634030694068]"
      ]
     },
     "execution_count": 25,
     "metadata": {},
     "output_type": "execute_result"
    }
   ],
   "source": [
    "cff"
   ]
  },
  {
   "cell_type": "code",
   "execution_count": 26,
   "metadata": {},
   "outputs": [],
   "source": [
    "test=test.values"
   ]
  },
  {
   "cell_type": "code",
   "execution_count": 27,
   "metadata": {},
   "outputs": [],
   "source": [
    "\n",
    "pred=[]\n",
    "for i  in range(len(test)):\n",
    "    pred.append(predict(test[i],cff))"
   ]
  },
  {
   "cell_type": "code",
   "execution_count": 28,
   "metadata": {},
   "outputs": [],
   "source": [
    "from sklearn.metrics import mean_squared_error\n",
    "from math import sqrt\n",
    "\n",
    "rms = sqrt(mean_squared_error(y, pred))"
   ]
  },
  {
   "cell_type": "code",
   "execution_count": 29,
   "metadata": {},
   "outputs": [
    {
     "data": {
      "text/plain": [
       "69252.06035834069"
      ]
     },
     "execution_count": 29,
     "metadata": {},
     "output_type": "execute_result"
    }
   ],
   "source": [
    "rms"
   ]
  }
 ],
 "metadata": {
  "kernelspec": {
   "display_name": "Python 3",
   "language": "python",
   "name": "python3"
  },
  "language_info": {
   "codemirror_mode": {
    "name": "ipython",
    "version": 3
   },
   "file_extension": ".py",
   "mimetype": "text/x-python",
   "name": "python",
   "nbconvert_exporter": "python",
   "pygments_lexer": "ipython3",
   "version": "3.6.6"
  }
 },
 "nbformat": 4,
 "nbformat_minor": 2
}
