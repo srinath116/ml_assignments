{
 "cells": [
  {
   "cell_type": "code",
   "execution_count": 1,
   "metadata": {},
   "outputs": [],
   "source": [
    "from __future__ import division\n",
    "import numpy as np\n",
    "import matplotlib.pyplot as plt\n",
    "from pycm import *\n"
   ]
  },
  {
   "cell_type": "code",
   "execution_count": 2,
   "metadata": {},
   "outputs": [],
   "source": [
    "def readMatrix(file):\n",
    "    fd = open(file, 'r')\n",
    "    hdr = fd.readline()\n",
    "    rows, cols = [int(s) for s in fd.readline().strip().split()]\n",
    "    tokens = fd.readline().strip().split()\n",
    "    matrix = np.zeros((rows, cols))\n",
    "    Y = []\n",
    "    for i, line in enumerate(fd):\n",
    "        nums = [int(x) for x in line.strip().split()]\n",
    "        Y.append(nums[0])\n",
    "        kv = np.array(nums[1:])\n",
    "        k = np.cumsum(kv[:-1:2])\n",
    "        v = kv[1::2]\n",
    "        matrix[i, k] = v\n",
    "    return matrix, tokens, np.array(Y)\n",
    "\n"
   ]
  },
  {
   "cell_type": "code",
   "execution_count": 3,
   "metadata": {},
   "outputs": [],
   "source": [
    "def nb_train(matrix, category):\n",
    "    state = {}\n",
    "    N = matrix.shape[1]\n",
    "    \n",
    "\n",
    "    spam = matrix[category == 1, :]\n",
    "    ham = matrix[category == 0, :]\n",
    "\n",
    "    spam_lengths = spam.sum(axis = 1)\n",
    "    ham_lengths = ham.sum(axis = 1)\n",
    "\n",
    "    state['phi_spam'] = (spam.sum(axis=0) + 1) / (np.sum(spam_lengths) + N)\n",
    "    state['phi_ham'] = (ham.sum(axis = 0) + 1) / (np.sum(ham_lengths) + N)\n",
    "    state['phi'] = spam.shape[0]/(spam.shape[0]+ham.shape[0])\n",
    "   \n",
    "    return state\n",
    "\n",
    "\n"
   ]
  },
  {
   "cell_type": "code",
   "execution_count": 4,
   "metadata": {},
   "outputs": [],
   "source": [
    "def nb_test(matrix, state):\n",
    "    output = np.zeros(matrix.shape[0])\n",
    "   \n",
    "    log_phi_spam = np.sum(np.log(state['phi_spam'])*matrix, axis = 1)\n",
    "    log_phi_ham=np.sum(np.log(state['phi_ham'])*matrix, axis = 1)\n",
    "    phi = state['phi']\n",
    "\n",
    "    ratio=np.exp(log_phi_ham+np.log(1 - phi) - log_phi_spam - np.log(phi))\n",
    "    probs = 1/(1+ratio)\n",
    "\n",
    "    output[probs > 0.5] = 1\n",
    "\n",
    "    \n",
    "    return output\n",
    "\n"
   ]
  },
  {
   "cell_type": "code",
   "execution_count": 6,
   "metadata": {},
   "outputs": [
    {
     "name": "stdout",
     "output_type": "stream",
     "text": [
      "Confusion Matrix:\n",
      "Predict          0    1    \n",
      "Actual\n",
      "0                397  3    \n",
      "1                11   389  \n",
      "\n",
      "None\n",
      "Accuracy:  0.9825\n",
      "Precision:  0.9923469387755102\n",
      "Recall:  0.9725\n",
      "Error: 0.0175\n",
      "\n",
      "\n"
     ]
    }
   ],
   "source": [
    "trainMatrix, tokenlist, trainCategory = readMatrix('MATRIX.TRAIN.800')\n",
    "testMatrix, tokenlist, testCategory = readMatrix('MATRIX.TEST')\n",
    "state = nb_train(trainMatrix, trainCategory)\n",
    "output = nb_test(testMatrix, state)\n"
   ]
  },
  {
   "cell_type": "code",
   "execution_count": 7,
   "metadata": {},
   "outputs": [
    {
     "data": {
      "text/plain": [
       "array([[397,   3],\n",
       "       [ 11, 389]])"
      ]
     },
     "execution_count": 7,
     "metadata": {},
     "output_type": "execute_result"
    }
   ],
   "source": [
    "from sklearn.metrics import confusion_matrix\n",
    "confusion_matrix(testCategory, output)"
   ]
  },
  {
   "cell_type": "code",
   "execution_count": 8,
   "metadata": {},
   "outputs": [
    {
     "name": "stdout",
     "output_type": "stream",
     "text": [
      "Average precision-recall score: 0.97\n"
     ]
    }
   ],
   "source": [
    "from sklearn.metrics import recall_score\n",
    "recall_=recall_score(testCategory, output)\n",
    "print('Average precision-recall score: {0:0.2f}'.format(\n",
    "      recall_))"
   ]
  },
  {
   "cell_type": "code",
   "execution_count": 11,
   "metadata": {},
   "outputs": [
    {
     "name": "stdout",
     "output_type": "stream",
     "text": [
      "Average precision-recall score: 0.98\n"
     ]
    }
   ],
   "source": [
    "from sklearn.metrics import average_precision_score\n",
    "average_precision = average_precision_score(testCategory,output)\n",
    "\n",
    "print('Average precision-recall score: {0:0.2f}'.format(\n",
    "      average_precision))"
   ]
  },
  {
   "cell_type": "code",
   "execution_count": null,
   "metadata": {},
   "outputs": [],
   "source": []
  },
  {
   "cell_type": "code",
   "execution_count": null,
   "metadata": {},
   "outputs": [],
   "source": []
  },
  {
   "cell_type": "code",
   "execution_count": null,
   "metadata": {},
   "outputs": [],
   "source": []
  }
 ],
 "metadata": {
  "kernelspec": {
   "display_name": "Python 3",
   "language": "python",
   "name": "python3"
  },
  "language_info": {
   "codemirror_mode": {
    "name": "ipython",
    "version": 3
   },
   "file_extension": ".py",
   "mimetype": "text/x-python",
   "name": "python",
   "nbconvert_exporter": "python",
   "pygments_lexer": "ipython3",
   "version": "3.6.6"
  }
 },
 "nbformat": 4,
 "nbformat_minor": 2
}
